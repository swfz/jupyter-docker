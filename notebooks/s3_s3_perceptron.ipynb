{
 "cells": [
  {
   "cell_type": "code",
   "execution_count": 31,
   "metadata": {},
   "outputs": [
    {
     "data": {
      "image/png": "[encoded data removed]",
      "text/plain": [
       "<Figure size 432x288 with 1 Axes>"
      ]
     },
     "metadata": {
      "needs_background": "light"
     },
     "output_type": "display_data"
    }
   ],
   "source": [
    "import numpy as np\n",
    "import matplotlib.pyplot as plt\n",
    "\n",
    "# 学習データを読み込む\n",
    "\n",
    "train = np.loadtxt('s3_s3_images.csv', delimiter=',', skiprows=1)\n",
    "train_x = train[:,0:2]\n",
    "train_y = train[:,2]\n",
    "\n",
    "# plot\n",
    "plt.plot(train_x[train_y == 1, 0], train_x[train_y == 1, 1], 'o')\n",
    "plt.plot(train_x[train_y == -1, 0], train_x[train_y == -1, 1], 'x')\n",
    "plt.axis('scaled')\n",
    "plt.show()"
   ]
  },
  {
   "cell_type": "code",
   "execution_count": 32,
   "metadata": {},
   "outputs": [
    {
     "name": "stdout",
     "output_type": "stream",
     "text": [
      "1回目： w = [-152.76693623 -431.72817145]\n",
      "2回目： w = [ 321.23306377  -47.72817145]\n",
      "3回目： w = [  88.23306377 -477.72817145]\n",
      "4回目： w = [ 484.23306377 -116.72817145]\n",
      "5回目： w = [  85.23306377 -549.72817145]\n",
      "6回目： w = [ 488.23306377 -209.72817145]\n",
      "7回目： w = [ 109.23306377 -625.72817145]\n",
      "8回目： w = [ 372.23306377 -513.72817145]\n",
      "9回目： w = [ 846.23306377 -129.72817145]\n",
      "10回目： w = [ 613.23306377 -559.72817145]\n",
      "11回目： w = [ 214.23306377 -992.72817145]\n",
      "12回目： w = [ 617.23306377 -652.72817145]\n",
      "13回目： w = [ 1114.23306377  -180.72817145]\n",
      "14回目： w = [ 735.23306377 -596.72817145]\n",
      "15回目： w = [ 515.23306377 -858.72817145]\n",
      "16回目： w = [ 989.23306377 -474.72817145]\n",
      "17回目： w = [ 756.23306377 -904.72817145]\n",
      "18回目： w = [ 1152.23306377  -543.72817145]\n",
      "19回目： w = [ 753.23306377 -976.72817145]\n",
      "20回目： w = [ 1156.23306377  -636.72817145]\n",
      "21回目： w = [  777.23306377 -1052.72817145]\n",
      "22回目： w = [ 1251.23306377  -668.72817145]\n",
      "23回目： w = [ 1018.23306377 -1098.72817145]\n",
      "24回目： w = [ 1515.23306377  -626.72817145]\n",
      "25回目： w = [ 1136.23306377 -1042.72817145]\n",
      "26回目： w = [  737.23306377 -1475.72817145]\n",
      "27回目： w = [ 1140.23306377 -1135.72817145]\n"
     ]
    }
   ],
   "source": [
    "# 重みの初期化\n",
    "w = np.random.rand(2)\n",
    "\n",
    "# 識別関数\n",
    "def f(x):\n",
    "    if np.dot(w, x) >= 0:\n",
    "        return 1\n",
    "    else:\n",
    "        return -1\n",
    "\n",
    "# 繰り返し回数\n",
    "epoch = 10\n",
    "\n",
    "# 更新回数\n",
    "count = 0\n",
    "\n",
    "# 重みを学習する\n",
    "for _ in range(epoch):\n",
    "    for x, y in zip(train_x, train_y):\n",
    "        if f(x) != y:\n",
    "            w = w + y * x\n",
    "            # ログの出力\n",
    "            count += 1\n",
    "            print('{}回目： w = {}'.format(count, w))"
   ]
  },
  {
   "cell_type": "code",
   "execution_count": 34,
   "metadata": {},
   "outputs": [
    {
     "data": {
      "image/png": "[encoded data removed]",
      "text/plain": [
       "<Figure size 432x288 with 1 Axes>"
      ]
     },
     "metadata": {
      "needs_background": "light"
     },
     "output_type": "display_data"
    }
   ],
   "source": [
    "            \n",
    "x1 = np.arange(0, 500) \n",
    "\n",
    "plt.plot(train_x[train_y == 1, 0], train_x[train_y == 1, 1], 'o')\n",
    "plt.plot(train_x[train_y == -1, 0], train_x[train_y == -1, 1], 'x')\n",
    "plt.plot(x1, -w[0] / w[1] * x1, linestyle='dashed')\n",
    "plt.show()\n"
   ]
  },
  {
   "cell_type": "code",
   "execution_count": 35,
   "metadata": {},
   "outputs": [
    {
     "data": {
      "text/plain": [
       "1"
      ]
     },
     "execution_count": 35,
     "metadata": {},
     "output_type": "execute_result"
    }
   ],
   "source": [
    "# 適当に分類させてみる\n",
    "# 200x100の横長画像\n",
    "\n",
    "f([200, 100])"
   ]
  },
  {
   "cell_type": "code",
   "execution_count": 36,
   "metadata": {},
   "outputs": [
    {
     "data": {
      "text/plain": [
       "-1"
      ]
     },
     "execution_count": 36,
     "metadata": {},
     "output_type": "execute_result"
    }
   ],
   "source": [
    "# 100x200の縦長画像\n",
    "f([100, 200])"
   ]
  },
  {
   "cell_type": "code",
   "execution_count": null,
   "metadata": {},
   "outputs": [],
   "source": []
  }
 ],
 "metadata": {
  "jupytext": {
   "text_representation": {
    "extension": ".py",
    "format_name": "light",
    "format_version": "1.3",
    "jupytext_version": "0.8.6"
   }
  },
  "kernelspec": {
   "display_name": "Python 3",
   "language": "python",
   "name": "python3"
  },
  "language_info": {
   "codemirror_mode": {
    "name": "ipython",
    "version": 3
   },
   "file_extension": ".py",
   "mimetype": "text/x-python",
   "name": "python",
   "nbconvert_exporter": "python",
   "pygments_lexer": "ipython3",
   "version": "3.6.7"
  }
 },
 "nbformat": 4,
 "nbformat_minor": 2
}
